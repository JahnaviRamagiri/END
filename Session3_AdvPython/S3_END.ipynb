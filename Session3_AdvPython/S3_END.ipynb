{
  "nbformat": 4,
  "nbformat_minor": 0,
  "metadata": {
    "colab": {
      "name": "S3_END.ipynb",
      "provenance": [],
      "authorship_tag": "ABX9TyOkfqFdrOrHAGHLyUeUCIj4",
      "include_colab_link": true
    },
    "kernelspec": {
      "name": "python3",
      "display_name": "Python 3"
    }
  },
  "cells": [
    {
      "cell_type": "markdown",
      "metadata": {
        "id": "view-in-github",
        "colab_type": "text"
      },
      "source": [
        "<a href=\"https://colab.research.google.com/github/JahnaviRamagiri/END/blob/main/Session3_AdvPython/S3_END.ipynb\" target=\"_parent\"><img src=\"https://colab.research.google.com/assets/colab-badge.svg\" alt=\"Open In Colab\"/></a>"
      ]
    },
    {
      "cell_type": "markdown",
      "metadata": {
        "id": "GTZy_IXLcfz1"
      },
      "source": [
        "Write a function using only list filter lambda that can tell whether a number is a Fibonacci number or not. You can use a pre-calculated list/dict to store fab numbers till 10000 PTS:100\n",
        "\n",
        "Using list comprehension (and zip/lambda/etc if required) write an expression that: PTS:100\n",
        "\n",
        "add 2 iterables a and b such that a is even and b is odd\n",
        "strips every vowel from a string provided (tsai>>t s)\n",
        "\n",
        "acts like a ReLU function for a 1D array\n",
        "\n",
        "acts like a sigmoid function for a 1D array\n",
        "\n",
        "takes a small character string and shifts all characters by 5 (handle boundary conditions) tsai>>yxfn\n",
        "\n",
        "A list comprehension expression that takes a ~200 word paragraph, and checks whether it has any of the swear words mentioned in https://github.com/RobertJGabriel/Google-profanity-words/blob/master/list.txt PTS:200 (Links to an external site.)\n",
        "\n",
        "Using reduce function: PTS:100\n",
        "\n",
        "add only even numbers in a list\n",
        "\n",
        "find the biggest character in a string (printable ascii characters)\n",
        "adds every 3rd number in a list\n",
        "\n",
        "Using randint, random.choice and list comprehensions, write an expression that generates 15 random KADDAADDDD number plates, where KA is fixed, D stands for a digit, and A stands for Capital alphabets. \n",
        "10<<DD<<99 & 1000<<DDDD<<9999 PTS:100\n",
        "\n",
        "Write the above again from scratch where KA can be changed to DL, and 1000/9999 ranges can be provided. Now use a partial function such that 1000/9999 are hardcoded, but KA can be provided PTS:100"
      ]
    },
    {
      "cell_type": "code",
      "metadata": {
        "id": "B6rVtuSKbNZC"
      },
      "source": [
        "import functools\n",
        "import operator\n",
        "import math\n",
        "from functools import partial\n",
        "import random"
      ],
      "execution_count": null,
      "outputs": []
    },
    {
      "cell_type": "code",
      "metadata": {
        "id": "DM2YqRymlUhd",
        "outputId": "46ce09d2-3a99-4395-83cd-5ac32e0876c7",
        "colab": {
          "base_uri": "https://localhost:8080/",
          "height": 52
        }
      },
      "source": [
        "def fib (check_num: int):\n",
        "  \"\"\"\n",
        "  A function using only list filter lambda that tells whether a number \n",
        "  is a Fibonacci number or not. A pre-calculated list/dict to store fab numbers till 10000 is used.\n",
        "  \"\"\"\n",
        "  series=[]\n",
        "  series.append(1)\n",
        "  series.append(1)\n",
        "  list(series.append(series[k-1]+series[k-2]) for k in range(2,20))\n",
        "  fib = filter(lambda x: x < 10000,series)\n",
        " \n",
        "  y = lambda x : 'True' if x in fib else 'False'\n",
        "  return y(check_num)\n",
        "\n",
        "fib(21)"
      ],
      "execution_count": null,
      "outputs": [
        {
          "output_type": "stream",
          "text": [
            "<filter object at 0x7fbbd9e60208>\n"
          ],
          "name": "stdout"
        },
        {
          "output_type": "execute_result",
          "data": {
            "application/vnd.google.colaboratory.intrinsic+json": {
              "type": "string"
            },
            "text/plain": [
              "'True'"
            ]
          },
          "metadata": {
            "tags": []
          },
          "execution_count": 255
        }
      ]
    },
    {
      "cell_type": "code",
      "metadata": {
        "id": "1wFPZqvGvNVk",
        "outputId": "c5a56656-b935-4f4f-ee4f-f305fedf341b",
        "colab": {
          "base_uri": "https://localhost:8080/",
          "height": 34
        }
      },
      "source": [
        "def check_vowel(in_string: str):\n",
        "  \"\"\"\n",
        "  strips every vowel from a string provided (tsai>>t s)\n",
        "  \"\"\"\n",
        "  vowels = 'aeiou'\n",
        "  return [x for x in in_string if x.lower() not in vowels]\n",
        "\n",
        "check_vowel(\"jahnavi ramagiriAB\")"
      ],
      "execution_count": null,
      "outputs": [
        {
          "output_type": "execute_result",
          "data": {
            "text/plain": [
              "['j', 'h', 'n', 'v', ' ', 'r', 'm', 'g', 'r', 'B']"
            ]
          },
          "metadata": {
            "tags": []
          },
          "execution_count": 254
        }
      ]
    },
    {
      "cell_type": "code",
      "metadata": {
        "id": "A3ir6awDGfzk",
        "outputId": "af240990-8d30-40a3-9a8e-4477262f5432",
        "colab": {
          "base_uri": "https://localhost:8080/",
          "height": 34
        }
      },
      "source": [
        "def ReLU(in_list: list):\n",
        "  \"\"\"\n",
        "  acts like a ReLU function for a 1D array\n",
        "  \"\"\"\n",
        "\n",
        "  return [ x if x>0 else 0 for x in in_list]\n",
        "  \n",
        "ReLU([1,2,3,-4,3,2,1,-0,-3,-4,-5,34])"
      ],
      "execution_count": null,
      "outputs": [
        {
          "output_type": "execute_result",
          "data": {
            "text/plain": [
              "[1, 2, 3, 0, 3, 2, 1, 0, 0, 0, 0, 34]"
            ]
          },
          "metadata": {
            "tags": []
          },
          "execution_count": 177
        }
      ]
    },
    {
      "cell_type": "code",
      "metadata": {
        "id": "zYCGaox6XUgY",
        "outputId": "8c523d09-b755-4e4d-ce40-59728490bdd8",
        "colab": {
          "base_uri": "https://localhost:8080/",
          "height": 218
        }
      },
      "source": [
        "def sigmoid (in_list: list):\n",
        "  \"\"\"\n",
        "  acts like a sigmoid function for a 1D array\n",
        "  \"\"\"\n",
        "  return [ 1/(1+math.e**(-x)) for x in in_list]\n",
        "  \n",
        "sigmoid([1,2,3,-4,3,2,1,-0,-3,-4,-5,34])"
      ],
      "execution_count": null,
      "outputs": [
        {
          "output_type": "execute_result",
          "data": {
            "text/plain": [
              "[0.7310585786300049,\n",
              " 0.8807970779778823,\n",
              " 0.9525741268224331,\n",
              " 0.017986209962091562,\n",
              " 0.9525741268224331,\n",
              " 0.8807970779778823,\n",
              " 0.7310585786300049,\n",
              " 0.5,\n",
              " 0.04742587317756679,\n",
              " 0.017986209962091562,\n",
              " 0.006692850924284857,\n",
              " 0.9999999999999982]"
            ]
          },
          "metadata": {
            "tags": []
          },
          "execution_count": 178
        }
      ]
    },
    {
      "cell_type": "code",
      "metadata": {
        "id": "naTQiXnMqrjo",
        "outputId": "de73dcde-d12a-4642-fada-a34a951caaba",
        "colab": {
          "base_uri": "https://localhost:8080/",
          "height": 34
        }
      },
      "source": [
        "def add_iterables(l1: list, l2: list):\n",
        "  \"\"\"\n",
        "  Using list comprehension (and zip/lambda/etc if required) write an expression that:\n",
        "  add 2 iterables a and b such that a is even and b is odd\n",
        "  \"\"\"\n",
        "  return sum([a + b for a, b in zip(l1, l2) if a % 2 == 0 and b % 2 != 0])\n",
        "\n",
        "add_iterables([2,4,6,8,9],[2,3,4,5,6])"
      ],
      "execution_count": null,
      "outputs": [
        {
          "output_type": "execute_result",
          "data": {
            "text/plain": [
              "20"
            ]
          },
          "metadata": {
            "tags": []
          },
          "execution_count": 250
        }
      ]
    },
    {
      "cell_type": "code",
      "metadata": {
        "id": "bichn1KhG8yu",
        "outputId": "e8e1d03a-632f-4ef8-c6cd-e141144f60a2",
        "colab": {
          "base_uri": "https://localhost:8080/",
          "height": 34
        }
      },
      "source": [
        "def shift_char(in_string: str):\n",
        "  \"\"\"\n",
        "  takes a small character string and shifts all characters by 5 (handle boundary conditions) tsai>>yxfn\n",
        "  \"\"\"\n",
        "  return [chr(ord(x)+5) if ord(x)<118 else chr(ord(x)-21) for x in in_string]\n",
        "\n",
        "shift_char('jahnavi')"
      ],
      "execution_count": null,
      "outputs": [
        {
          "output_type": "execute_result",
          "data": {
            "text/plain": [
              "['o', 'f', 'm', 's', 'f', 'a', 'n']"
            ]
          },
          "metadata": {
            "tags": []
          },
          "execution_count": 172
        }
      ]
    },
    {
      "cell_type": "markdown",
      "metadata": {
        "id": "B4XYrkrLbnmz"
      },
      "source": [
        "Using reduce function: PTS:100\n",
        "\n",
        "add only even numbers in a list\n",
        "\n",
        "find the biggest character in a string (printable ascii characters)\n",
        "\n",
        "adds every 3rd number in a list\n"
      ]
    },
    {
      "cell_type": "code",
      "metadata": {
        "id": "NVnsWhapbko8",
        "outputId": "ca628e0d-1665-43ed-9b18-d7e6dba78fea",
        "colab": {
          "base_uri": "https://localhost:8080/",
          "height": 34
        }
      },
      "source": [
        "def add_even(in_list: list):\n",
        "  \"\"\"\n",
        "  add only even numbers in a list\n",
        "  \"\"\"\n",
        "  return functools.reduce(operator.add, filter(lambda x: x%2==0,in_list))\n",
        "\n",
        "add_even([12,34,56,34,23])"
      ],
      "execution_count": null,
      "outputs": [
        {
          "output_type": "execute_result",
          "data": {
            "text/plain": [
              "136"
            ]
          },
          "metadata": {
            "tags": []
          },
          "execution_count": 189
        }
      ]
    },
    {
      "cell_type": "code",
      "metadata": {
        "id": "WCaCieVucHpO",
        "outputId": "ec4f49ff-6f55-46ff-f5d2-5c2dade68ecc",
        "colab": {
          "base_uri": "https://localhost:8080/",
          "height": 35
        }
      },
      "source": [
        "def find_max(in_string: str):\n",
        "  \"\"\"\n",
        "  find the biggest character in a string (printable ascii characters)\n",
        "  \"\"\"\n",
        "  return functools.reduce(max,in_string)\n",
        "find_max('jahnaviz')"
      ],
      "execution_count": null,
      "outputs": [
        {
          "output_type": "execute_result",
          "data": {
            "application/vnd.google.colaboratory.intrinsic+json": {
              "type": "string"
            },
            "text/plain": [
              "'z'"
            ]
          },
          "metadata": {
            "tags": []
          },
          "execution_count": 206
        }
      ]
    },
    {
      "cell_type": "code",
      "metadata": {
        "id": "gTXXcRZvdgHF",
        "outputId": "3bdc8023-a143-45fa-8bdc-72fe51b32e2f",
        "colab": {
          "base_uri": "https://localhost:8080/",
          "height": 34
        }
      },
      "source": [
        "def add_third(in_list: list):\n",
        "  \"\"\"\"\n",
        "  adds every 3rd number in a list\n",
        "  \"\"\"\n",
        "  return functools.reduce(operator.add, filter(lambda x: (in_list.index(x)+1) % 3 ==0 ,in_list))\n",
        "\n",
        "add_third([1,2,3,4,5,6])"
      ],
      "execution_count": null,
      "outputs": [
        {
          "output_type": "execute_result",
          "data": {
            "text/plain": [
              "9"
            ]
          },
          "metadata": {
            "tags": []
          },
          "execution_count": 220
        }
      ]
    },
    {
      "cell_type": "code",
      "metadata": {
        "id": "OJWjPQ3uMxtD",
        "outputId": "1524f95c-3a2f-4ed4-cd07-b0e4b0a27909",
        "colab": {
          "base_uri": "https://localhost:8080/",
          "height": 269
        }
      },
      "source": [
        "def numplate(state_code: str = 'KA'):\n",
        "  \"\"\"\n",
        "    Using randint, random.choice and list comprehensions, write an expression that generates 15 random KADDAADDDD number plates, \n",
        "    where \n",
        "      KA is fixed, \n",
        "      D stands for a digit 10<<DD<<99\n",
        "      A stands for Capital alphabets 1000<<DDDD<<9999 \n",
        "\n",
        "  \"\"\"\n",
        "  return [f'{state_code}{random.randint(11,99)}{chr(random.randint(65,90))}{chr(random.randint(65,90))}{random.randint(1000,9999)}' for _ in range (15)]\n",
        "\n",
        "numplate()"
      ],
      "execution_count": null,
      "outputs": [
        {
          "output_type": "execute_result",
          "data": {
            "text/plain": [
              "['KA17TV8219',\n",
              " 'KA91ZA7809',\n",
              " 'KA91WW3646',\n",
              " 'KA80SX2996',\n",
              " 'KA89QR2665',\n",
              " 'KA94KN8802',\n",
              " 'KA65TI9382',\n",
              " 'KA40VO4601',\n",
              " 'KA28CZ9781',\n",
              " 'KA11JF2998',\n",
              " 'KA52QW7183',\n",
              " 'KA90ZV5659',\n",
              " 'KA43ON9440',\n",
              " 'KA57LG7440',\n",
              " 'KA67PO7988']"
            ]
          },
          "metadata": {
            "tags": []
          },
          "execution_count": 246
        }
      ]
    },
    {
      "cell_type": "code",
      "metadata": {
        "id": "m0_5A12p3kUE"
      },
      "source": [
        "partial_func = partial(partial_numplate,'KA')\n",
        "\n",
        "def partial_numplate(state_code,DDDD):\n",
        "  \"\"\"\n",
        "  Write the above again from scratch where KA can be changed to DL, \n",
        "  and 1000/9999 ranges can be provided. Now use a partial function such that 1000/9999 are hardcoded, but KA can be provided \n",
        "  \"\"\"\n",
        "  return [f\"{state_code}{random.randint(11,99)}{chr(random.randint(65,90))}{chr(random.randint(65,90))}{random.randint(1000,DDDD)}\" for i in range (15)]"
      ],
      "execution_count": null,
      "outputs": []
    },
    {
      "cell_type": "code",
      "metadata": {
        "id": "xLnnGpEJ76UO",
        "outputId": "0536fefe-4d9e-488b-e596-3a7f3419a707",
        "colab": {
          "base_uri": "https://localhost:8080/",
          "height": 286
        }
      },
      "source": [
        "partial_numplate('DL',8989)"
      ],
      "execution_count": null,
      "outputs": [
        {
          "output_type": "stream",
          "text": [
            "<class 'int'>\n"
          ],
          "name": "stdout"
        },
        {
          "output_type": "execute_result",
          "data": {
            "text/plain": [
              "['DL40FY6506',\n",
              " 'DL86JY2752',\n",
              " 'DL45BQ4099',\n",
              " 'DL56QT5530',\n",
              " 'DL57UE2556',\n",
              " 'DL83FB3112',\n",
              " 'DL25KJ4945',\n",
              " 'DL33JI8150',\n",
              " 'DL51AL4220',\n",
              " 'DL97BX3576',\n",
              " 'DL31IT5853',\n",
              " 'DL25VA5425',\n",
              " 'DL24YL7483',\n",
              " 'DL22QT4472',\n",
              " 'DL40KN4627']"
            ]
          },
          "metadata": {
            "tags": []
          },
          "execution_count": 103
        }
      ]
    },
    {
      "cell_type": "code",
      "metadata": {
        "id": "4IK6WT5x796F",
        "outputId": "307eb629-6be6-456b-ae67-d43061c4cc50",
        "colab": {
          "base_uri": "https://localhost:8080/",
          "height": 269
        }
      },
      "source": [
        "def numplate_partial():\n",
        "    \"\"\"\n",
        "    case 6:\n",
        "    Write the above again from scratch where KA can be changed to DL,\n",
        "    and 1000/9999 ranges can be provided.\n",
        "    Now use a partial function such that 1000/9999 are hardcoded, but KA can be provided\n",
        "    \"\"\"\n",
        "    partial_fuc = partial(numplate, \"DA\")\n",
        "    return partial_fuc()\n",
        "\n",
        "numplate_partial()"
      ],
      "execution_count": null,
      "outputs": [
        {
          "output_type": "execute_result",
          "data": {
            "text/plain": [
              "['DA52QZ7178',\n",
              " 'DA45UL4320',\n",
              " 'DA86ZI4722',\n",
              " 'DA22IW4840',\n",
              " 'DA63HI7508',\n",
              " 'DA72AG7527',\n",
              " 'DA52AV6197',\n",
              " 'DA16BM1186',\n",
              " 'DA73DP1975',\n",
              " 'DA13CZ3288',\n",
              " 'DA40OX8084',\n",
              " 'DA78OS7525',\n",
              " 'DA98YF4540',\n",
              " 'DA67ZO2054',\n",
              " 'DA96BF2433']"
            ]
          },
          "metadata": {
            "tags": []
          },
          "execution_count": 249
        }
      ]
    },
    {
      "cell_type": "code",
      "metadata": {
        "id": "ON8HcGDA-AFP",
        "outputId": "9496ec10-62bc-42fa-d06a-780086f05f77",
        "colab": {
          "base_uri": "https://localhost:8080/",
          "height": 34
        }
      },
      "source": [
        "import pandas as pd\n",
        "\n",
        "def check_swear(text_input : list):\n",
        "  \"\"\"\n",
        "  A list comprehension expression that takes a ~200 word paragraph, and checks whether it has any of the swear words mentioned in\n",
        "  https://github.com/RobertJGabriel/Google-profanity-words/blob/master/list.txt PTS:200\n",
        "  \"\"\"\n",
        "  swear_text = open(text_input,'r')\n",
        "  swear_list = [word.strip() for word in swear_text]\n",
        "  input_text = open('input.txt', 'r')\n",
        "  input = [word.split() for word in input_text][0]\n",
        "\n",
        "  return [x for x in swear_list if x in input]\n",
        "\n",
        "check_swear('Swear_list.txt')"
      ],
      "execution_count": null,
      "outputs": [
        {
          "output_type": "execute_result",
          "data": {
            "text/plain": [
              "['ass', 'bum', 'damn', 'fuck', 'fucker', 'hell']"
            ]
          },
          "metadata": {
            "tags": []
          },
          "execution_count": 245
        }
      ]
    }
  ]
}